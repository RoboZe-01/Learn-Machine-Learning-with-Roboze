{
 "cells": [
  {
   "cell_type": "markdown",
   "id": "1b24c97a",
   "metadata": {},
   "source": [
    "# OOP's in python \n",
    "\n",
    "## Clasees and obeject \n",
    "\n"
   ]
  },
  {
   "cell_type": "code",
   "execution_count": 3,
   "id": "a74bc116",
   "metadata": {},
   "outputs": [
    {
     "name": "stdout",
     "output_type": "stream",
     "text": [
      "Employee Id :1100\n",
      "Employee Id :1101\n"
     ]
    }
   ],
   "source": [
    "# Define the class \n",
    "class Employee :\n",
    "    employee_id = 0\n",
    "\n",
    "# Create objects\n",
    "employee1=Employee()\n",
    "employee2=Employee()\n",
    "\n",
    "# Accesing the attributes from employee1\n",
    "employee1.employee_id=1100\n",
    "print(f'Employee Id :{employee1.employee_id}')\n",
    "\n",
    "# Accesing the attributes from employee2\n",
    "employee2.employee_id=1101\n",
    "print(f'Employee Id :{employee2.employee_id}')"
   ]
  },
  {
   "cell_type": "code",
   "execution_count": null,
   "id": "4c848a3e",
   "metadata": {},
   "outputs": [],
   "source": []
  }
 ],
 "metadata": {
  "kernelspec": {
   "display_name": "Python 3",
   "language": "python",
   "name": "python3"
  },
  "language_info": {
   "codemirror_mode": {
    "name": "ipython",
    "version": 3
   },
   "file_extension": ".py",
   "mimetype": "text/x-python",
   "name": "python",
   "nbconvert_exporter": "python",
   "pygments_lexer": "ipython3",
   "version": "3.11.9"
  }
 },
 "nbformat": 4,
 "nbformat_minor": 5
}
