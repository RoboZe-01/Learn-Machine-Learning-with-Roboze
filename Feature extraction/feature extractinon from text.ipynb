{
 "cells": [
  {
   "cell_type": "markdown",
   "metadata": {},
   "source": [
    "## What is Feature Extraction?\n",
    "\n",
    "In machine learning, feature extraction is the process of transforming raw data into numerical features that can be used to train machine learning models. It's a crucial step because raw data is often too complex or irrelevant to be used directly"
   ]
  },
  {
   "cell_type": "markdown",
   "metadata": {},
   "source": [
    "# TF-IDF vectorizer \n",
    "\n",
    "-tf - term frequency \n",
    "\n",
    "-idf - inverse document frequency  [it is log(N/n)]\n",
    "\n",
    "- IDF of rare words is high , and vise versa\n"
   ]
  },
  {
   "cell_type": "markdown",
   "metadata": {},
   "source": []
  },
  {
   "cell_type": "code",
   "execution_count": null,
   "metadata": {},
   "outputs": [],
   "source": []
  }
 ],
 "metadata": {
  "language_info": {
   "name": "python"
  }
 },
 "nbformat": 4,
 "nbformat_minor": 2
}
