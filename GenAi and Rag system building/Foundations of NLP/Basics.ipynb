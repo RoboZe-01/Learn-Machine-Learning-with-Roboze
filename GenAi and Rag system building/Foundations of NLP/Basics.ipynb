{
 "cells": [
  {
   "cell_type": "markdown",
   "id": "736aa532",
   "metadata": {},
   "source": [
    "# Foundations in NLP : Text Preprocessing , Tokenisation and embeddings "
   ]
  },
  {
   "cell_type": "markdown",
   "id": "45c03429",
   "metadata": {},
   "source": [
    "**Why do we need natural language processing **: \n",
    "\n",
    "Imagine you're a detective analyzing thousands of unstructured text files . You need patterns , connections and insights -fast . \n",
    "\n",
    "That's where idea come from . \n",
    "For computers need to understand the text meaningfully ."
   ]
  },
  {
   "cell_type": "markdown",
   "id": "38afd3cf",
   "metadata": {},
   "source": [
    "**Making Text Understandable to computers - 3 Steps**\n",
    "\n",
    "To help computers understand text , we need : \n",
    "\n",
    "- Text Preprocessing \n",
    "- Tokenisation \n",
    "- Embeddings\n"
   ]
  },
  {
   "cell_type": "markdown",
   "id": "749c97e8",
   "metadata": {},
   "source": [
    "# Step 1 : Text Preprocessing\n",
    "\n",
    "Prepare the text by : \n",
    "- Lowercasing \n",
    "- Removing punctuation\n",
    "- Removing stopwards\n",
    "- Stemming / Lemmatization ( Making words ro root form )"
   ]
  },
  {
   "cell_type": "markdown",
   "id": "58e3944a",
   "metadata": {},
   "source": [
    "# Text Preprocessing on real Data \n",
    "\n",
    "## Objective\n",
    "Clean text data so it's uniform , lowercase , and ready for further analysis.\n",
    "\n",
    "## Lowercasing\n",
    "-  Goal : Convert all the text to lowecases to avoid treating \"LOVE\" and \"love\" as a different words"
   ]
  },
  {
   "cell_type": "code",
   "execution_count": 1,
   "id": "9078ab74",
   "metadata": {},
   "outputs": [],
   "source": [
    "import pandas as pd\n",
    "# Initial Data\n",
    "\n",
    "reviews = [\n",
    "    \"Love the new frames! Lightweight and stylish. The lenses are crystal clear. Highly recommend!\",\n",
    "    \"The glasses broke after a week. Poor durability, but the design was nice.\",\n",
    "    \"Perfect fit, great anti-glare coating. Best purchase ever!\",\n",
    "    \"Worst experience. The prescription was wrong, and customer service was unhelpful.\",\n",
    "    \"Decent quality, but overpriced. The frame color was slightly different from the image.\",\n",
    "    \"Super comfortable and trendy. The blue-light filter works amazingly!\",\n",
    "    \"Scratches appeared on the lenses within days. Disappointed.\",\n",
    "    \"Fast delivery, good packaging. The frames are sturdy and stylish.\",\n",
    "    \"Never buying again. The glasses caused headaches, and the return process was a nightmare.\",\n",
    "    \"Absolutely love my new glasses! The fit is perfect, and the lens quality is superb.\",\n",
    "\n",
    "\n",
    "\n",
    "]\n"
   ]
  },
  {
   "cell_type": "markdown",
   "id": "c0a4a7bb",
   "metadata": {},
   "source": []
  }
 ],
 "metadata": {
  "kernelspec": {
   "display_name": "Python 3",
   "language": "python",
   "name": "python3"
  },
  "language_info": {
   "codemirror_mode": {
    "name": "ipython",
    "version": 3
   },
   "file_extension": ".py",
   "mimetype": "text/x-python",
   "name": "python",
   "nbconvert_exporter": "python",
   "pygments_lexer": "ipython3",
   "version": "3.11.9"
  }
 },
 "nbformat": 4,
 "nbformat_minor": 5
}
