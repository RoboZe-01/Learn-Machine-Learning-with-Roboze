{
 "cells": [
  {
   "cell_type": "markdown",
   "id": "1fdb583c",
   "metadata": {},
   "source": [
    "# Why retieval models\n",
    "\n",
    "### Scenario\n",
    "- Imagine your're in a huge library with millions of books and need information on \"Ancient Egyptian History\"\n",
    "\n",
    "### Challenge\n",
    "- Finding specific information in vast resourse can be overwhelming \n",
    "\n",
    "### Solution\n",
    "- Retrieval models act like a expert librarians , quickly identifying relevant information\n",
    "\n",
    "\n",
    "\n"
   ]
  },
  {
   "cell_type": "markdown",
   "id": "ac5a7109",
   "metadata": {},
   "source": []
  }
 ],
 "metadata": {
  "language_info": {
   "name": "python"
  }
 },
 "nbformat": 4,
 "nbformat_minor": 5
}
