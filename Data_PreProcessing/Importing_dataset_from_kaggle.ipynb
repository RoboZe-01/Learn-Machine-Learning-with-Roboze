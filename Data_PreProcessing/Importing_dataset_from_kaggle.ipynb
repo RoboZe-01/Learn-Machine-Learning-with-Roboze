{
 "cells": [
  {
   "cell_type": "markdown",
   "metadata": {},
   "source": [
    "# Importing Dataset From kaggle API\n",
    "\n"
   ]
  },
  {
   "cell_type": "code",
   "execution_count": 1,
   "metadata": {},
   "outputs": [
    {
     "name": "stdout",
     "output_type": "stream",
     "text": [
      "Requirement already satisfied: kaggle in c:\\users\\admin\\appdata\\local\\packages\\pythonsoftwarefoundation.python.3.11_qbz5n2kfra8p0\\localcache\\local-packages\\python311\\site-packages (1.6.17)\n",
      "Requirement already satisfied: six>=1.10 in c:\\users\\admin\\appdata\\local\\packages\\pythonsoftwarefoundation.python.3.11_qbz5n2kfra8p0\\localcache\\local-packages\\python311\\site-packages (from kaggle) (1.16.0)\n",
      "Requirement already satisfied: certifi>=2023.7.22 in c:\\users\\admin\\appdata\\local\\packages\\pythonsoftwarefoundation.python.3.11_qbz5n2kfra8p0\\localcache\\local-packages\\python311\\site-packages (from kaggle) (2024.8.30)\n",
      "Requirement already satisfied: python-dateutil in c:\\users\\admin\\appdata\\local\\packages\\pythonsoftwarefoundation.python.3.11_qbz5n2kfra8p0\\localcache\\local-packages\\python311\\site-packages (from kaggle) (2.9.0.post0)\n",
      "Requirement already satisfied: requests in c:\\users\\admin\\appdata\\local\\packages\\pythonsoftwarefoundation.python.3.11_qbz5n2kfra8p0\\localcache\\local-packages\\python311\\site-packages (from kaggle) (2.32.3)\n",
      "Requirement already satisfied: tqdm in c:\\users\\admin\\appdata\\local\\packages\\pythonsoftwarefoundation.python.3.11_qbz5n2kfra8p0\\localcache\\local-packages\\python311\\site-packages (from kaggle) (4.67.1)\n",
      "Requirement already satisfied: python-slugify in c:\\users\\admin\\appdata\\local\\packages\\pythonsoftwarefoundation.python.3.11_qbz5n2kfra8p0\\localcache\\local-packages\\python311\\site-packages (from kaggle) (8.0.4)\n",
      "Requirement already satisfied: urllib3 in c:\\users\\admin\\appdata\\local\\packages\\pythonsoftwarefoundation.python.3.11_qbz5n2kfra8p0\\localcache\\local-packages\\python311\\site-packages (from kaggle) (2.2.2)\n",
      "Requirement already satisfied: bleach in c:\\users\\admin\\appdata\\local\\packages\\pythonsoftwarefoundation.python.3.11_qbz5n2kfra8p0\\localcache\\local-packages\\python311\\site-packages (from kaggle) (6.2.0)\n",
      "Requirement already satisfied: webencodings in c:\\users\\admin\\appdata\\local\\packages\\pythonsoftwarefoundation.python.3.11_qbz5n2kfra8p0\\localcache\\local-packages\\python311\\site-packages (from bleach->kaggle) (0.5.1)\n",
      "Requirement already satisfied: text-unidecode>=1.3 in c:\\users\\admin\\appdata\\local\\packages\\pythonsoftwarefoundation.python.3.11_qbz5n2kfra8p0\\localcache\\local-packages\\python311\\site-packages (from python-slugify->kaggle) (1.3)\n",
      "Requirement already satisfied: charset-normalizer<4,>=2 in c:\\users\\admin\\appdata\\local\\packages\\pythonsoftwarefoundation.python.3.11_qbz5n2kfra8p0\\localcache\\local-packages\\python311\\site-packages (from requests->kaggle) (3.3.2)\n",
      "Requirement already satisfied: idna<4,>=2.5 in c:\\users\\admin\\appdata\\local\\packages\\pythonsoftwarefoundation.python.3.11_qbz5n2kfra8p0\\localcache\\local-packages\\python311\\site-packages (from requests->kaggle) (3.8)\n",
      "Requirement already satisfied: colorama in c:\\users\\admin\\appdata\\local\\packages\\pythonsoftwarefoundation.python.3.11_qbz5n2kfra8p0\\localcache\\local-packages\\python311\\site-packages (from tqdm->kaggle) (0.4.6)\n"
     ]
    }
   ],
   "source": [
    "# Installing kaggle \n",
    "\n",
    "!pip install kaggle"
   ]
  },
  {
   "cell_type": "markdown",
   "metadata": {},
   "source": [
    "## Uploading Kaggle.json "
   ]
  },
  {
   "cell_type": "code",
   "execution_count": 3,
   "metadata": {},
   "outputs": [
    {
     "name": "stderr",
     "output_type": "stream",
     "text": [
      "A subdirectory or file C:\\Users\\ADMIN\\.kaggle already exists.\n"
     ]
    },
    {
     "name": "stdout",
     "output_type": "stream",
     "text": [
      "        1 file(s) copied.\n",
      "ref                                                              title                                                size  lastUpdated          downloadCount  voteCount  usabilityRating  \n",
      "---------------------------------------------------------------  --------------------------------------------------  -----  -------------------  -------------  ---------  ---------------  \n",
      "stealthtechnologies/predict-student-performance-dataset          Predict Student Performance                          12KB  2024-12-26 12:57:04           1282         36  1.0              \n",
      "bhadramohit/customer-shopping-latest-trends-dataset              Customer Shopping (Latest Trends) Dataset            76KB  2024-11-23 15:26:12          21738        405  1.0              \n",
      "ankushpanday1/heart-attack-in-youth-of-india                     Heart attack in youth of India                      298KB  2025-01-02 15:20:31            819         25  1.0              \n",
      "oktayrdeki/heart-disease                                         Heart Disease                                       568KB  2024-12-29 13:26:49           1045         31  1.0              \n",
      "mhassansaboor/toyota-motors-stock-data-2980-2024                 Toyota Motors Stock Data (1980-2024)                189KB  2024-12-28 20:26:56            913         40  1.0              \n",
      "abdulmalik1518/the-ultimate-cars-dataset-2024                    The Ultimate Cars Dataset 2024                       25KB  2024-12-30 14:45:41            834         29  1.0              \n",
      "hopesb/student-depression-dataset                                Student Depression Dataset.                         454KB  2024-11-22 17:56:03          16924        245  1.0              \n",
      "fatmanur12/new-york-air-quality                                  New York Air Quality                                166KB  2025-01-01 19:19:59            623         26  1.0              \n",
      "govindaramsriram/sleep-time-prediction                           Sleep Time Prediction                                28KB  2024-12-28 17:08:56           1347         31  1.0              \n",
      "arifmia/agricultural-land-suitability-and-soil-quality           Agricultural Land Suitability and Soil Quality       27KB  2025-01-02 16:57:03            681         21  0.7058824        \n",
      "denkuznetz/food-delivery-time-prediction                         Food Delivery Time Prediction 🛵                      12KB  2024-12-23 13:12:14           1469         40  1.0              \n",
      "taimoor888/top-100-youtube-channels-in-2024                      Top 100 YouTube Channels in 2024                      3KB  2024-12-15 16:09:25           1510         43  1.0              \n",
      "govindaramsriram/crop-yield-of-a-farm                            Crop Yield of a Farm                                 28KB  2024-12-28 18:12:16            890         29  1.0              \n",
      "oktayrdeki/houses-in-london                                      Houses in London                                     21KB  2024-12-15 19:27:42           1715         39  1.0              \n",
      "mujtabamatin/air-quality-and-pollution-assessment                Air Quality and Pollution Assessment                 84KB  2024-12-04 15:29:51           7938        119  1.0              \n",
      "yaaryiitturan/global-tech-salary-dataset                         Global Tech Salary Dataset                           43KB  2024-12-30 12:52:44            618         28  1.0              \n",
      "hassanelfattmi/why-do-customers-leave-can-you-spot-the-churners  Why Do Customers Leave? Can You Spot the Churners?    3MB  2024-12-21 11:49:00            748         21  1.0              \n",
      "mhassansaboor/intel-stock-data-1980-2024                         Intel Stock Data (1980-2024)                        281KB  2024-12-25 16:12:36            776         30  1.0              \n",
      "willianoliveiragibin/water-sanitation-and-hygiene                Water, Sanitation and Hygiene                        33KB  2024-12-30 20:41:52            402         23  1.0              \n",
      "dansbecker/melbourne-housing-snapshot                            Melbourne Housing Snapshot                          451KB  2018-06-05 12:52:24         167427       1557  0.7058824        \n"
     ]
    }
   ],
   "source": [
    "# COnfiguring the path of kaggle.json\n",
    "\n",
    "!mkdir %USERPROFILE%\\.kaggle\n",
    "!copy kaggle.json %USERPROFILE%\\.kaggle\\\n",
    "\n",
    "!kaggle datasets list\n",
    "\n",
    "\n"
   ]
  },
  {
   "cell_type": "code",
   "execution_count": 2,
   "metadata": {},
   "outputs": [
    {
     "name": "stdout",
     "output_type": "stream",
     "text": [
      "LANL-Earthquake-Prediction.zip: Skipping, found more recently modified local copy (use --force to force download)\n"
     ]
    }
   ],
   "source": [
    "!kaggle competitions download -c LANL-Earthquake-Prediction"
   ]
  }
 ],
 "metadata": {
  "kernelspec": {
   "display_name": "Python 3",
   "language": "python",
   "name": "python3"
  },
  "language_info": {
   "codemirror_mode": {
    "name": "ipython",
    "version": 3
   },
   "file_extension": ".py",
   "mimetype": "text/x-python",
   "name": "python",
   "nbconvert_exporter": "python",
   "pygments_lexer": "ipython3",
   "version": "3.11.9"
  }
 },
 "nbformat": 4,
 "nbformat_minor": 2
}
